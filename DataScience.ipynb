{
 "cells": [
  {
   "cell_type": "markdown",
   "id": "351f586e",
   "metadata": {},
   "source": [
    "# Data Science"
   ]
  },
  {
   "cell_type": "markdown",
   "id": "2126987f",
   "metadata": {},
   "source": [
    "This notebook provides a concise summary of the Data Science Ecosystem."
   ]
  },
  {
   "cell_type": "markdown",
   "id": "5743fc9e",
   "metadata": {},
   "source": [
    "List data science languages:\n",
    "1. Python\n",
    "2. R\n",
    "3. SQL (Structured Query Language)\n",
    "4. Julia\n",
    "5. Scala\n",
    "6. MATLAB\n",
    "7. Java\n",
    "8. SAS (Statistical Analysis System)\n",
    "9. Ruby, etc."
   ]
  },
  {
   "cell_type": "markdown",
   "id": "ea33f1de",
   "metadata": {},
   "source": [
    "List Data Science Libraries:\n",
    "\n",
    "1. NumPy\n",
    "\n",
    "2. Pandas\n",
    "\n",
    "3. Matplotlib\n",
    "\n",
    "4. Seaborn\n",
    "\n",
    "5. Scikit-learn\n",
    "\n",
    "6. TensorFlow\n",
    "\n",
    "7. Keras\n",
    "\n",
    "8. PyTorch\n",
    "\n",
    "9. SciPy"
   ]
  },
  {
   "cell_type": "code",
   "execution_count": 32,
   "id": "56f3ac78",
   "metadata": {},
   "outputs": [
    {
     "data": {
      "text/html": [
       "<style>\n",
       "table {float:left}\n",
       "</style>\n",
       "\n"
      ],
      "text/plain": [
       "<IPython.core.display.HTML object>"
      ]
     },
     "metadata": {},
     "output_type": "display_data"
    }
   ],
   "source": [
    "%%html\n",
    "<style>\n",
    "table {float:left}\n",
    "</style>\n",
    "\n"
   ]
  },
  {
   "cell_type": "markdown",
   "id": "860f5bec",
   "metadata": {},
   "source": [
    "| Data Science Tools |\n",
    "| -------------------|\n",
    "| Apache Spark       |\n",
    "| TensorFlow         |\n",
    "| SAS                |"
   ]
  },
  {
   "cell_type": "markdown",
   "id": "648ae0e7",
   "metadata": {},
   "source": [
    "## Here are several instances of assessing arithmetic expressions in the Python language."
   ]
  },
  {
   "cell_type": "code",
   "execution_count": 34,
   "id": "4e440b58",
   "metadata": {},
   "outputs": [
    {
     "data": {
      "text/plain": [
       "5"
      ]
     },
     "execution_count": 34,
     "metadata": {},
     "output_type": "execute_result"
    }
   ],
   "source": [
    "# multiply and add numbers.\n",
    "(1*2)+3"
   ]
  },
  {
   "cell_type": "code",
   "execution_count": 35,
   "id": "bdddb7db",
   "metadata": {},
   "outputs": [
    {
     "data": {
      "text/plain": [
       "6.0"
      ]
     },
     "execution_count": 35,
     "metadata": {},
     "output_type": "execute_result"
    }
   ],
   "source": [
    "# convert minutes to hours.\n",
    "360/60"
   ]
  },
  {
   "cell_type": "markdown",
   "id": "47adaf2e",
   "metadata": {},
   "source": [
    "### Objective\n",
    "- list data science languages.\n",
    "- list data science libraries.\n",
    "- list of Data Science tools. \n",
    "- adding comments in a cell."
   ]
  },
  {
   "cell_type": "markdown",
   "id": "ff4eac87",
   "metadata": {},
   "source": [
    "## Author\n",
    "Egi Dhea"
   ]
  },
  {
   "cell_type": "code",
   "execution_count": null,
   "id": "a3943fe7",
   "metadata": {},
   "outputs": [],
   "source": []
  }
 ],
 "metadata": {
  "kernelspec": {
   "display_name": "Python 3 (ipykernel)",
   "language": "python",
   "name": "python3"
  },
  "language_info": {
   "codemirror_mode": {
    "name": "ipython",
    "version": 3
   },
   "file_extension": ".py",
   "mimetype": "text/x-python",
   "name": "python",
   "nbconvert_exporter": "python",
   "pygments_lexer": "ipython3",
   "version": "3.10.9"
  }
 },
 "nbformat": 4,
 "nbformat_minor": 5
}
